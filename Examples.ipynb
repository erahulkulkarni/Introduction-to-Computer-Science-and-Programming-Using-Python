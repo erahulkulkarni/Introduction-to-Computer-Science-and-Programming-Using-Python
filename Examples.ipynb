{
  "nbformat": 4,
  "nbformat_minor": 0,
  "metadata": {
    "colab": {
      "name": "Examples.ipynb",
      "provenance": [],
      "authorship_tag": "ABX9TyO9gVx9/g0mtBIdnhZp46iz",
      "include_colab_link": true
    },
    "kernelspec": {
      "name": "python3",
      "display_name": "Python 3"
    }
  },
  "cells": [
    {
      "cell_type": "markdown",
      "metadata": {
        "id": "view-in-github",
        "colab_type": "text"
      },
      "source": [
        "<a href=\"https://colab.research.google.com/github/erahulkulkarni/Introduction-to-Computer-Science-and-Programming-Using-Python/blob/master/Examples.ipynb\" target=\"_parent\"><img src=\"https://colab.research.google.com/assets/colab-badge.svg\" alt=\"Open In Colab\"/></a>"
      ]
    },
    {
      "cell_type": "code",
      "metadata": {
        "id": "b18EOu0YdrqZ",
        "colab_type": "code",
        "colab": {
          "base_uri": "https://localhost:8080/",
          "height": 72
        },
        "outputId": "dd3bea35-a8ff-4f77-9209-53809de208fc"
      },
      "source": [
        "\n",
        "6+4*10\n",
        "\n",
        "(6+4)*10\n",
        "\n",
        "23.0**5\n",
        "\n",
        "import math\n",
        "\n",
        "(-68 + math.sqrt(68**2 - 4*34*(-510)) ) / 2*34\n",
        "\n",
        "math.cos(3.4)**2 + math.sin(3.4)**2\n",
        "\n",
        "print('hello world')\n",
        "\n",
        "print('I like 6.00.1x!')\n",
        "\n",
        "def hello():\n",
        "    \"\"\"Print \"Hello World\" and return None.\"\"\"\n",
        "    print(\"Hello World\")\n",
        "    \n",
        "hello()\n",
        "\n",
        "import numpy\n",
        "\n",
        "import matplotlib"
      ],
      "execution_count": 1,
      "outputs": [
        {
          "output_type": "stream",
          "text": [
            "hello world\n",
            "I like 6.00.1x!\n",
            "Hello World\n"
          ],
          "name": "stdout"
        }
      ]
    },
    {
      "cell_type": "code",
      "metadata": {
        "id": "iT9EaMzJf9rC",
        "colab_type": "code",
        "colab": {}
      },
      "source": [
        "# epdb1.py -- experiment with the Python debugger, pdb\n",
        "import pdb\n",
        "pdb.set_trace()\n",
        "\n",
        "a = \"aaa\"\n",
        "b = \"bbb\"\n",
        "c = \"ccc\"\n",
        "final = a + b + c\n",
        "print (final)"
      ],
      "execution_count": 0,
      "outputs": []
    },
    {
      "cell_type": "code",
      "metadata": {
        "id": "t2_jmfW5hdY6",
        "colab_type": "code",
        "colab": {}
      },
      "source": [
        ""
      ],
      "execution_count": 0,
      "outputs": []
    }
  ]
}